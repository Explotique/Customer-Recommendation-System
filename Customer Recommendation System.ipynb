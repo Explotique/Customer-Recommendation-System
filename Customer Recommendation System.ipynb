{
  "cells": [
    {
      "cell_type": "code",
      "source": [
        "from google.colab import drive\n",
        "drive.mount('/content/drive')"
      ],
      "metadata": {
        "colab": {
          "base_uri": "https://localhost:8080/"
        },
        "id": "yrqUhbnY9woZ",
        "outputId": "a98c358c-c049-4a09-9f99-d5950a212f05"
      },
      "id": "yrqUhbnY9woZ",
      "execution_count": null,
      "outputs": [
        {
          "output_type": "stream",
          "name": "stdout",
          "text": [
            "Mounted at /content/drive\n"
          ]
        }
      ]
    },
    {
      "cell_type": "code",
      "execution_count": null,
      "id": "ca3c12c8",
      "metadata": {
        "id": "ca3c12c8"
      },
      "outputs": [],
      "source": [
        "#https://www.kaggle.com/datasets/vivek468/superstore-dataset-final?select=Sample+-+Superstore.csv\n",
        "import pandas as pd\n",
        "data=pd.read_csv('/content/drive/MyDrive/Colab_Notebooks/csv/Data Mining/Sample - Superstore.csv',encoding='cp1252')"
      ]
    },
    {
      "cell_type": "code",
      "execution_count": null,
      "id": "7bd5bcbb",
      "metadata": {
        "colab": {
          "base_uri": "https://localhost:8080/"
        },
        "id": "7bd5bcbb",
        "outputId": "eca3098d-5c97-4173-d1d5-9b95ddae4991"
      },
      "outputs": [
        {
          "output_type": "execute_result",
          "data": {
            "text/plain": [
              "Index(['Row ID', 'Order ID', 'Order Date', 'Ship Date', 'Ship Mode',\n",
              "       'Customer ID', 'Customer Name', 'Segment', 'Country', 'City', 'State',\n",
              "       'Postal Code', 'Region', 'Product ID', 'Category', 'Sub-Category',\n",
              "       'Product Name', 'Sales', 'Quantity', 'Discount', 'Profit'],\n",
              "      dtype='object')"
            ]
          },
          "metadata": {},
          "execution_count": 3
        }
      ],
      "source": [
        "data.columns"
      ]
    },
    {
      "cell_type": "code",
      "execution_count": null,
      "id": "eb9843c0",
      "metadata": {
        "id": "eb9843c0"
      },
      "outputs": [],
      "source": [
        "rec=data[['Customer Name','Product Name','Quantity']]\n",
        "g=rec.groupby(['Customer Name','Product Name']).sum()\n",
        "rec_data=g.add_suffix('').reset_index()"
      ]
    },
    {
      "cell_type": "code",
      "source": [
        "d=rec_data.groupby(['Product Name']).max().reset_index()\n",
        "max={value:key for key in d['Quantity'] for value in d['Product Name']}\n",
        "d1=rec_data.groupby(['Product Name']).min().reset_index()\n",
        "min={value:key for key in d1['Quantity'] for value in d1['Product Name']}"
      ],
      "metadata": {
        "id": "dV5wDCRoAL4i"
      },
      "id": "dV5wDCRoAL4i",
      "execution_count": null,
      "outputs": []
    },
    {
      "cell_type": "code",
      "source": [
        "L1=rec_data['Product Name'].tolist()\n",
        "L=rec_data['Quantity'].tolist()\n",
        "for i in range(len(L)):\n",
        "  L[i]=((L[i]-min[L1[i]])/(max[L1[i]]-min[L1[i]]))\n",
        "rec_data['Quantity']=L"
      ],
      "metadata": {
        "id": "-BDwEdEVOvxg"
      },
      "id": "-BDwEdEVOvxg",
      "execution_count": null,
      "outputs": []
    },
    {
      "cell_type": "code",
      "execution_count": null,
      "id": "5f09aed0",
      "metadata": {
        "id": "5f09aed0"
      },
      "outputs": [],
      "source": [
        "from sklearn.utils import shuffle\n",
        "rec_data=shuffle(rec_data)"
      ]
    },
    {
      "cell_type": "code",
      "source": [
        "rec_data.head(2)"
      ],
      "metadata": {
        "colab": {
          "base_uri": "https://localhost:8080/",
          "height": 112
        },
        "id": "jW524yyHWCdP",
        "outputId": "1b14f660-f840-4825-bf73-4d8ff87c0474"
      },
      "id": "jW524yyHWCdP",
      "execution_count": null,
      "outputs": [
        {
          "output_type": "execute_result",
          "data": {
            "text/plain": [
              "     Customer Name                              Product Name  Quantity\n",
              "6200   Mark Packer                                 Xerox 205  0.857143\n",
              "2174  Craig Yedwab  #10 Gummed Flap White Envelopes, 100/Box  0.142857"
            ],
            "text/html": [
              "\n",
              "  <div id=\"df-a88a2953-e03e-4cf5-9a2b-d768f5b31586\">\n",
              "    <div class=\"colab-df-container\">\n",
              "      <div>\n",
              "<style scoped>\n",
              "    .dataframe tbody tr th:only-of-type {\n",
              "        vertical-align: middle;\n",
              "    }\n",
              "\n",
              "    .dataframe tbody tr th {\n",
              "        vertical-align: top;\n",
              "    }\n",
              "\n",
              "    .dataframe thead th {\n",
              "        text-align: right;\n",
              "    }\n",
              "</style>\n",
              "<table border=\"1\" class=\"dataframe\">\n",
              "  <thead>\n",
              "    <tr style=\"text-align: right;\">\n",
              "      <th></th>\n",
              "      <th>Customer Name</th>\n",
              "      <th>Product Name</th>\n",
              "      <th>Quantity</th>\n",
              "    </tr>\n",
              "  </thead>\n",
              "  <tbody>\n",
              "    <tr>\n",
              "      <th>6200</th>\n",
              "      <td>Mark Packer</td>\n",
              "      <td>Xerox 205</td>\n",
              "      <td>0.857143</td>\n",
              "    </tr>\n",
              "    <tr>\n",
              "      <th>2174</th>\n",
              "      <td>Craig Yedwab</td>\n",
              "      <td>#10 Gummed Flap White Envelopes, 100/Box</td>\n",
              "      <td>0.142857</td>\n",
              "    </tr>\n",
              "  </tbody>\n",
              "</table>\n",
              "</div>\n",
              "      <button class=\"colab-df-convert\" onclick=\"convertToInteractive('df-a88a2953-e03e-4cf5-9a2b-d768f5b31586')\"\n",
              "              title=\"Convert this dataframe to an interactive table.\"\n",
              "              style=\"display:none;\">\n",
              "        \n",
              "  <svg xmlns=\"http://www.w3.org/2000/svg\" height=\"24px\"viewBox=\"0 0 24 24\"\n",
              "       width=\"24px\">\n",
              "    <path d=\"M0 0h24v24H0V0z\" fill=\"none\"/>\n",
              "    <path d=\"M18.56 5.44l.94 2.06.94-2.06 2.06-.94-2.06-.94-.94-2.06-.94 2.06-2.06.94zm-11 1L8.5 8.5l.94-2.06 2.06-.94-2.06-.94L8.5 2.5l-.94 2.06-2.06.94zm10 10l.94 2.06.94-2.06 2.06-.94-2.06-.94-.94-2.06-.94 2.06-2.06.94z\"/><path d=\"M17.41 7.96l-1.37-1.37c-.4-.4-.92-.59-1.43-.59-.52 0-1.04.2-1.43.59L10.3 9.45l-7.72 7.72c-.78.78-.78 2.05 0 2.83L4 21.41c.39.39.9.59 1.41.59.51 0 1.02-.2 1.41-.59l7.78-7.78 2.81-2.81c.8-.78.8-2.07 0-2.86zM5.41 20L4 18.59l7.72-7.72 1.47 1.35L5.41 20z\"/>\n",
              "  </svg>\n",
              "      </button>\n",
              "      \n",
              "  <style>\n",
              "    .colab-df-container {\n",
              "      display:flex;\n",
              "      flex-wrap:wrap;\n",
              "      gap: 12px;\n",
              "    }\n",
              "\n",
              "    .colab-df-convert {\n",
              "      background-color: #E8F0FE;\n",
              "      border: none;\n",
              "      border-radius: 50%;\n",
              "      cursor: pointer;\n",
              "      display: none;\n",
              "      fill: #1967D2;\n",
              "      height: 32px;\n",
              "      padding: 0 0 0 0;\n",
              "      width: 32px;\n",
              "    }\n",
              "\n",
              "    .colab-df-convert:hover {\n",
              "      background-color: #E2EBFA;\n",
              "      box-shadow: 0px 1px 2px rgba(60, 64, 67, 0.3), 0px 1px 3px 1px rgba(60, 64, 67, 0.15);\n",
              "      fill: #174EA6;\n",
              "    }\n",
              "\n",
              "    [theme=dark] .colab-df-convert {\n",
              "      background-color: #3B4455;\n",
              "      fill: #D2E3FC;\n",
              "    }\n",
              "\n",
              "    [theme=dark] .colab-df-convert:hover {\n",
              "      background-color: #434B5C;\n",
              "      box-shadow: 0px 1px 3px 1px rgba(0, 0, 0, 0.15);\n",
              "      filter: drop-shadow(0px 1px 2px rgba(0, 0, 0, 0.3));\n",
              "      fill: #FFFFFF;\n",
              "    }\n",
              "  </style>\n",
              "\n",
              "      <script>\n",
              "        const buttonEl =\n",
              "          document.querySelector('#df-a88a2953-e03e-4cf5-9a2b-d768f5b31586 button.colab-df-convert');\n",
              "        buttonEl.style.display =\n",
              "          google.colab.kernel.accessAllowed ? 'block' : 'none';\n",
              "\n",
              "        async function convertToInteractive(key) {\n",
              "          const element = document.querySelector('#df-a88a2953-e03e-4cf5-9a2b-d768f5b31586');\n",
              "          const dataTable =\n",
              "            await google.colab.kernel.invokeFunction('convertToInteractive',\n",
              "                                                     [key], {});\n",
              "          if (!dataTable) return;\n",
              "\n",
              "          const docLinkHtml = 'Like what you see? Visit the ' +\n",
              "            '<a target=\"_blank\" href=https://colab.research.google.com/notebooks/data_table.ipynb>data table notebook</a>'\n",
              "            + ' to learn more about interactive tables.';\n",
              "          element.innerHTML = '';\n",
              "          dataTable['output_type'] = 'display_data';\n",
              "          await google.colab.output.renderOutput(dataTable, element);\n",
              "          const docLink = document.createElement('div');\n",
              "          docLink.innerHTML = docLinkHtml;\n",
              "          element.appendChild(docLink);\n",
              "        }\n",
              "      </script>\n",
              "    </div>\n",
              "  </div>\n",
              "  "
            ]
          },
          "metadata": {},
          "execution_count": 8
        }
      ]
    },
    {
      "cell_type": "code",
      "source": [
        "ratings_utility_matrix = rec_data.pivot_table(values='Quantity', index='Customer Name', columns='Product Name', fill_value=0)"
      ],
      "metadata": {
        "id": "9iQG48IOZ8Yn"
      },
      "id": "9iQG48IOZ8Yn",
      "execution_count": null,
      "outputs": []
    },
    {
      "cell_type": "code",
      "source": [
        "X = ratings_utility_matrix.T"
      ],
      "metadata": {
        "id": "5S_DCYVZZ8VY"
      },
      "id": "5S_DCYVZZ8VY",
      "execution_count": null,
      "outputs": []
    },
    {
      "cell_type": "code",
      "source": [
        "X.info()"
      ],
      "metadata": {
        "colab": {
          "base_uri": "https://localhost:8080/"
        },
        "id": "YctAyzV3jCQ5",
        "outputId": "a35eb14a-173a-4aab-fe9f-139773104071"
      },
      "id": "YctAyzV3jCQ5",
      "execution_count": null,
      "outputs": [
        {
          "output_type": "stream",
          "name": "stdout",
          "text": [
            "<class 'pandas.core.frame.DataFrame'>\n",
            "Index: 1850 entries, \"While you Were Out\" Message Book, One Form per Page to netTALK DUO VoIP Telephone Service\n",
            "Columns: 793 entries, Aaron Bergman to Zuschuss Donatelli\n",
            "dtypes: float64(793)\n",
            "memory usage: 11.2+ MB\n"
          ]
        }
      ]
    },
    {
      "cell_type": "code",
      "source": [
        "#https://analyticsindiamag.com/singular-value-decomposition-svd-application-recommender-system/\n",
        "import sklearn\n",
        "from sklearn.decomposition import TruncatedSVD\n",
        "import numpy as np\n",
        "SVD = TruncatedSVD(n_components=10)\n",
        "decomposed_matrix = SVD.fit_transform(X)"
      ],
      "metadata": {
        "colab": {
          "base_uri": "https://localhost:8080/"
        },
        "id": "RFCB1Uu0ahEC",
        "outputId": "091eca64-4feb-4dab-9b6b-e517a0a1a58f"
      },
      "id": "RFCB1Uu0ahEC",
      "execution_count": null,
      "outputs": [
        {
          "output_type": "execute_result",
          "data": {
            "text/plain": [
              "(1850, 10)"
            ]
          },
          "metadata": {},
          "execution_count": 15
        }
      ]
    },
    {
      "cell_type": "code",
      "source": [
        "correlation_matrix = np.corrcoef(decomposed_matrix)"
      ],
      "metadata": {
        "colab": {
          "base_uri": "https://localhost:8080/"
        },
        "id": "1be0rHW2mFtY",
        "outputId": "40d80239-7fe7-4dcd-8d98-3b5081bcb8cb"
      },
      "id": "1be0rHW2mFtY",
      "execution_count": null,
      "outputs": [
        {
          "output_type": "stream",
          "name": "stderr",
          "text": [
            "/usr/local/lib/python3.7/dist-packages/numpy/lib/function_base.py:2691: RuntimeWarning: invalid value encountered in true_divide\n",
            "  c /= stddev[:, None]\n",
            "/usr/local/lib/python3.7/dist-packages/numpy/lib/function_base.py:2692: RuntimeWarning: invalid value encountered in true_divide\n",
            "  c /= stddev[None, :]\n"
          ]
        }
      ]
    },
    {
      "cell_type": "code",
      "source": [
        "def Recommend(p):\n",
        "  product_names = list(X.index)\n",
        "  product_ID = product_names.index(p)\n",
        "  correlation_product_ID = correlation_matrix[product_ID]\n",
        "  Recommend = list(X.index[correlation_product_ID > 0.90])\n",
        "  if p in Recommend:\n",
        "    Recommend.remove(p) \n",
        "  return Recommend[0:3]\n",
        "  "
      ],
      "metadata": {
        "id": "wtJRxQ8QiUWn"
      },
      "id": "wtJRxQ8QiUWn",
      "execution_count": null,
      "outputs": []
    },
    {
      "cell_type": "code",
      "source": [
        "Recommendations={}\n",
        "for prod in X.index :\n",
        "  Recommendations[prod]=' / '.join(Recommend(prod))\n"
      ],
      "metadata": {
        "id": "FSxX8cFhlIKH"
      },
      "id": "FSxX8cFhlIKH",
      "execution_count": null,
      "outputs": []
    },
    {
      "cell_type": "code",
      "source": [
        "cos_rec={}\n",
        "for cos in data['Customer Name'].unique():\n",
        "  l=['','']\n",
        "  for prod in data[data['Customer Name']==cos]['Product Name'].unique():\n",
        "    l[0]+=' / '+prod\n",
        "    l[1]+=' // '+ Recommendations[prod]\n",
        "  cos_rec[cos]=l\n"
      ],
      "metadata": {
        "id": "biAYHcfNnYWU"
      },
      "id": "biAYHcfNnYWU",
      "execution_count": null,
      "outputs": []
    },
    {
      "cell_type": "code",
      "source": [
        "dictlist=[]\n",
        "for key, value in cos_rec.items():\n",
        "    temp = [key,value[0],value[1]]\n",
        "    dictlist.append(temp)"
      ],
      "metadata": {
        "id": "w5-njjhatNQ-"
      },
      "id": "w5-njjhatNQ-",
      "execution_count": null,
      "outputs": []
    },
    {
      "cell_type": "code",
      "source": [
        "customers_Recommendations=pd.DataFrame(dictlist, columns=['Customer','Bought Products','Recommendations'])"
      ],
      "metadata": {
        "id": "R7392Vdnt57D"
      },
      "id": "R7392Vdnt57D",
      "execution_count": null,
      "outputs": []
    },
    {
      "cell_type": "code",
      "source": [
        "customers_Recommendations.to_csv('/content/drive/MyDrive/Colab_Notebooks/csv/Data Mining/Recommendations.csv')"
      ],
      "metadata": {
        "id": "2W_OtG2qt51d"
      },
      "id": "2W_OtG2qt51d",
      "execution_count": null,
      "outputs": []
    },
    {
      "cell_type": "code",
      "source": [
        "def Customer_Recommender(customer_name):\n",
        "  customers_Recommendations[customers_Recommendations['Customer']==customer_name]"
      ],
      "metadata": {
        "id": "y20yp0_dvKxP"
      },
      "id": "y20yp0_dvKxP",
      "execution_count": null,
      "outputs": []
    },
    {
      "cell_type": "code",
      "source": [
        "def recommend_for(cos):\n",
        "    l1=customers_Recommendations[customers_Recommendations['Customer']==cos]['Recommendations'].tolist()[0].split(' // ')[1:]\n",
        "    l2=customers_Recommendations[customers_Recommendations['Customer']==cos]['Bought Products'].tolist()[0].split(' // ')\n",
        "    l11=[i.strip() for i in l1]\n",
        "    while '' in l11:\n",
        "        l11.remove('')\n",
        "    l22=[i.strip() for i in l2 ]\n",
        "    while '' in l22:\n",
        "        l22.remove('')\n",
        "    print(f\" based on these purchases : \\n {l22} \\n the recommendations for {cos}  are :\\n {l11} \")"
      ],
      "metadata": {
        "id": "pW7EWCd6vKua"
      },
      "id": "pW7EWCd6vKua",
      "execution_count": null,
      "outputs": []
    },
    {
      "cell_type": "code",
      "source": [],
      "metadata": {
        "id": "x8mxc28yvKrr"
      },
      "id": "x8mxc28yvKrr",
      "execution_count": null,
      "outputs": []
    },
    {
      "cell_type": "code",
      "source": [],
      "metadata": {
        "id": "qTnHS8sIvKpA"
      },
      "id": "qTnHS8sIvKpA",
      "execution_count": null,
      "outputs": []
    },
    {
      "cell_type": "code",
      "source": [],
      "metadata": {
        "id": "II_aOGL2371x"
      },
      "id": "II_aOGL2371x",
      "execution_count": null,
      "outputs": []
    },
    {
      "cell_type": "code",
      "source": [],
      "metadata": {
        "id": "P7uojGfc37zJ"
      },
      "id": "P7uojGfc37zJ",
      "execution_count": null,
      "outputs": []
    },
    {
      "cell_type": "code",
      "source": [],
      "metadata": {
        "id": "ABkIMtYm37wl"
      },
      "id": "ABkIMtYm37wl",
      "execution_count": null,
      "outputs": []
    },
    {
      "cell_type": "code",
      "source": [],
      "metadata": {
        "id": "2wBiUypf37ti"
      },
      "id": "2wBiUypf37ti",
      "execution_count": null,
      "outputs": []
    },
    {
      "cell_type": "code",
      "source": [],
      "metadata": {
        "id": "Amz2SS6n37pK"
      },
      "id": "Amz2SS6n37pK",
      "execution_count": null,
      "outputs": []
    }
  ],
  "metadata": {
    "kernelspec": {
      "display_name": "Python 3 (ipykernel)",
      "language": "python",
      "name": "python3"
    },
    "language_info": {
      "codemirror_mode": {
        "name": "ipython",
        "version": 3
      },
      "file_extension": ".py",
      "mimetype": "text/x-python",
      "name": "python",
      "nbconvert_exporter": "python",
      "pygments_lexer": "ipython3",
      "version": "3.9.7"
    },
    "colab": {
      "provenance": []
    }
  },
  "nbformat": 4,
  "nbformat_minor": 5
}